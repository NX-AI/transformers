{
 "cells": [
  {
   "cell_type": "code",
   "execution_count": 1,
   "metadata": {},
   "outputs": [],
   "source": [
    "%load_ext autoreload\n",
    "%autoreload 2"
   ]
  },
  {
   "cell_type": "code",
   "execution_count": 2,
   "metadata": {},
   "outputs": [],
   "source": [
    "# import sys\n",
    "# sys.path.insert(0, \"mlstm_simple_torch\")"
   ]
  },
  {
   "cell_type": "code",
   "execution_count": 3,
   "metadata": {},
   "outputs": [
    {
     "name": "stderr",
     "output_type": "stream",
     "text": [
      "/nfs-gpu/xlstm/miniforge3/envs/xlstm_eval/lib/python3.11/site-packages/tqdm/auto.py:21: TqdmWarning: IProgress not found. Please update jupyter and ipywidgets. See https://ipywidgets.readthedocs.io/en/stable/user_install.html\n",
      "  from .autonotebook import tqdm as notebook_tqdm\n"
     ]
    }
   ],
   "source": [
    "from transformers import AutoModelForCausalLM, AutoTokenizer\n",
    "import transformers"
   ]
  },
  {
   "cell_type": "code",
   "execution_count": 4,
   "metadata": {},
   "outputs": [
    {
     "name": "stderr",
     "output_type": "stream",
     "text": [
      "2024-11-24 18:05:19.300418: I tensorflow/core/util/port.cc:113] oneDNN custom operations are on. You may see slightly different numerical results due to floating-point round-off errors from different computation orders. To turn them off, set the environment variable `TF_ENABLE_ONEDNN_OPTS=0`.\n",
      "2024-11-24 18:05:19.362134: E external/local_xla/xla/stream_executor/cuda/cuda_dnn.cc:9261] Unable to register cuDNN factory: Attempting to register factory for plugin cuDNN when one has already been registered\n",
      "2024-11-24 18:05:19.362169: E external/local_xla/xla/stream_executor/cuda/cuda_fft.cc:607] Unable to register cuFFT factory: Attempting to register factory for plugin cuFFT when one has already been registered\n",
      "2024-11-24 18:05:19.364028: E external/local_xla/xla/stream_executor/cuda/cuda_blas.cc:1515] Unable to register cuBLAS factory: Attempting to register factory for plugin cuBLAS when one has already been registered\n",
      "2024-11-24 18:05:19.374817: I tensorflow/core/platform/cpu_feature_guard.cc:182] This TensorFlow binary is optimized to use available CPU instructions in performance-critical operations.\n",
      "To enable the following instructions: AVX2 AVX512F AVX512_VNNI AVX512_BF16 AVX_VNNI AMX_TILE AMX_INT8 AMX_BF16 FMA, in other operations, rebuild TensorFlow with the appropriate compiler flags.\n",
      "2024-11-24 18:05:22.611906: W tensorflow/compiler/tf2tensorrt/utils/py_utils.cc:38] TF-TRT Warning: Could not find TensorRT\n"
     ]
    }
   ],
   "source": [
    "from transformers import xLSTMModel, xLSTMForCausalLM, xLSTMConfig, xLSTMPreTrainedModel\n",
    "from transformers.models.xlstm.modeling_xlstm import xLSTMCache"
   ]
  },
  {
   "cell_type": "code",
   "execution_count": 5,
   "metadata": {},
   "outputs": [
    {
     "name": "stderr",
     "output_type": "stream",
     "text": [
      "Loading checkpoint shards: 100%|██████████| 6/6 [00:08<00:00,  1.37s/it]\n"
     ]
    }
   ],
   "source": [
    "# ckpt_path = \"/nfs-gpu/xlstm/logs/converted_model_checkpoints/dclm_mLSTMv1_7B_ctx8192_2024-11-19T11:12:49_505000\"\n",
    "# model = xLSTMForCausalLM.from_pretrained(ckpt_path, device_map='auto')\n",
    "\n",
    "model = AutoModelForCausalLM.from_pretrained(\"/nfs-gpu/xlstm/logs/outputs_poeppel/tmpckpt/checkpoint_test/testmodel10\", device_map='auto')"
   ]
  },
  {
   "cell_type": "code",
   "execution_count": 6,
   "metadata": {},
   "outputs": [
    {
     "data": {
      "text/plain": [
       "'chunkwise--triton_limit_chunk'"
      ]
     },
     "execution_count": 6,
     "metadata": {},
     "output_type": "execute_result"
    }
   ],
   "source": [
    "model.backbone.blocks[0].config.forward_backend_name"
   ]
  },
  {
   "cell_type": "code",
   "execution_count": 7,
   "metadata": {},
   "outputs": [],
   "source": [
    "for param_name, _ in model.named_parameters():\n",
    "    # print(param_name)\n",
    "    pass"
   ]
  },
  {
   "cell_type": "code",
   "execution_count": null,
   "metadata": {},
   "outputs": [
    {
     "data": {
      "text/plain": [
       "Parameter containing:\n",
       "tensor([[-4.1347e-03,  6.2107e-02,  1.3004e-01,  ..., -3.9270e-02,\n",
       "         -8.5980e-02,  5.1134e-01],\n",
       "        [-2.7021e-03,  8.1594e-03, -1.2019e-02,  ..., -5.8456e-03,\n",
       "         -6.2147e-03,  4.4870e-03],\n",
       "        [-1.4784e-02,  9.8308e-03,  4.3885e-03,  ...,  1.2567e-02,\n",
       "          3.5710e-03, -1.4621e-02],\n",
       "        ...,\n",
       "        [-1.3915e-03, -6.5551e-03, -8.1581e-04,  ..., -1.2919e-03,\n",
       "          6.9401e-03,  7.1876e-03],\n",
       "        [-2.6722e-03, -6.9579e-03, -8.0867e-03,  ..., -7.8452e-03,\n",
       "         -9.5306e-03,  4.7927e-03],\n",
       "        [ 5.0381e-03,  1.3760e-03, -3.2230e-03,  ..., -7.5782e-03,\n",
       "         -9.6426e-03,  2.7401e-04]], device='cuda:0', requires_grad=True)"
      ]
     },
     "execution_count": 8,
     "metadata": {},
     "output_type": "execute_result"
    }
   ],
   "source": [
    "model.backbone.embeddings.weight"
   ]
  },
  {
   "cell_type": "code",
   "execution_count": null,
   "metadata": {},
   "outputs": [],
   "source": []
  },
  {
   "cell_type": "code",
   "execution_count": 9,
   "metadata": {},
   "outputs": [],
   "source": [
    "import torch\n",
    "\n",
    "tokenizer = AutoTokenizer.from_pretrained('EleutherAI/gpt-neox-20b')\n",
    "# tokens = model.tokenize(\"Hello My name is Computer.\")\n",
    "\n",
    "input_ids = tokenizer(\"The play, celebrated for its wit and repartee, parodies contemporary dramatic norms and comically satirises late-Victorian manners. The triumphant opening night was\", return_tensors=\"pt\")"
   ]
  },
  {
   "cell_type": "code",
   "execution_count": 10,
   "metadata": {},
   "outputs": [
    {
     "data": {
      "text/plain": [
       "'chunkwise--triton_limit_chunk'"
      ]
     },
     "execution_count": 10,
     "metadata": {},
     "output_type": "execute_result"
    }
   ],
   "source": [
    "model.config.to_mlstm_block_config().forward_backend_name"
   ]
  },
  {
   "cell_type": "code",
   "execution_count": 11,
   "metadata": {},
   "outputs": [
    {
     "data": {
      "text/plain": [
       "{'input_ids': tensor([[  510,  1132,    13, 19651,   323,   697, 19311,   285,  1234,   435,\n",
       "          1796,    13,  1061,  4550, 13399, 14138, 22429,   285,   389,  1037,\n",
       "          2206,   343,  3013,  3563,    14, 35419,   757, 34323,    15,   380,\n",
       "         19725, 13645,  5909,  2360,   369]]), 'attention_mask': tensor([[1, 1, 1, 1, 1, 1, 1, 1, 1, 1, 1, 1, 1, 1, 1, 1, 1, 1, 1, 1, 1, 1, 1, 1,\n",
       "         1, 1, 1, 1, 1, 1, 1, 1, 1, 1, 1]])}"
      ]
     },
     "execution_count": 11,
     "metadata": {},
     "output_type": "execute_result"
    }
   ],
   "source": [
    "input_ids"
   ]
  },
  {
   "cell_type": "code",
   "execution_count": 14,
   "metadata": {},
   "outputs": [],
   "source": [
    "out = model.generate(input_ids['input_ids'].to(device=\"cuda\"), use_cache=True, max_new_tokens=40)"
   ]
  },
  {
   "cell_type": "code",
   "execution_count": 15,
   "metadata": {},
   "outputs": [
    {
     "data": {
      "text/plain": [
       "'The play, celebrated for its wit and repartee, parodies contemporary dramatic norms and comically satirises late-Victorian manners. The triumphant opening night was its first night. The triumphant opening night was the first of its first night. The late-Victorian late-Victorian. The late-Victorian late-Victorian. The late-'"
      ]
     },
     "execution_count": 15,
     "metadata": {},
     "output_type": "execute_result"
    }
   ],
   "source": [
    "tokenizer.decode(out[0])"
   ]
  },
  {
   "cell_type": "code",
   "execution_count": 14,
   "metadata": {},
   "outputs": [],
   "source": [
    "# model.save_pretrained('/nfs-gpu/xlstm/logs/outputs_poeppel/tmpckpt/checkpoint_test/testmodel10')"
   ]
  },
  {
   "cell_type": "code",
   "execution_count": null,
   "metadata": {},
   "outputs": [],
   "source": []
  }
 ],
 "metadata": {
  "kernelspec": {
   "display_name": "xlstm_eval",
   "language": "python",
   "name": "python3"
  },
  "language_info": {
   "codemirror_mode": {
    "name": "ipython",
    "version": 3
   },
   "file_extension": ".py",
   "mimetype": "text/x-python",
   "name": "python",
   "nbconvert_exporter": "python",
   "pygments_lexer": "ipython3",
   "version": "3.11.10"
  }
 },
 "nbformat": 4,
 "nbformat_minor": 2
}
